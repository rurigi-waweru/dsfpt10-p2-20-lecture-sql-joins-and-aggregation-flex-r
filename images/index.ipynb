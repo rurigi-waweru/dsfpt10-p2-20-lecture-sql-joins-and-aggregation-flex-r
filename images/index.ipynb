{
 "cells": [
  {
   "cell_type": "markdown",
   "metadata": {},
   "source": [
    "# Lecture: SQL Joins and Aggregation (Flex)\n",
    "\n",
    "In this lesson Victor Geislinger dives into more SQL with an introduction to joins, beginning with some aggregating functions the usefulness of SQL is explored. In this lesson topics include group by, having, count, inner join, outer join, left join, and the importance of execution order.\n"
   ]
  },
  {
   "cell_type": "markdown",
   "metadata": {},
   "source": [
    "\n",
    "The repository for this lecture can be found here - SQL Joins and Aggregation Links to an external site.\n"
   ]
  },
  {
   "cell_type": "markdown",
   "metadata": {},
   "source": [
    "## Video available on\n",
    "https://moringa.instructure.com/courses/965/pages/lecture-sql-joins-and-aggregation-flex?module_item_id=158652"
   ]
  }
 ],
 "metadata": {
  "language_info": {
   "name": "python"
  }
 },
 "nbformat": 4,
 "nbformat_minor": 2
}
